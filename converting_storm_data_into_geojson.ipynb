{
 "cells": [
  {
   "cell_type": "code",
   "execution_count": 1,
   "id": "f1472d83-a7d6-4151-8819-855488cfe404",
   "metadata": {},
   "outputs": [],
   "source": [
    "from shapely.geometry import MultiPoint\n",
    "from shapely.geometry import Point\n",
    "from shapely.geometry.polygon import Polygon\n",
    "from shapely.affinity import scale"
   ]
  },
  {
   "cell_type": "code",
   "execution_count": 2,
   "id": "c7cf9fd2-fe0e-4f97-900a-2a0e7e5c4c07",
   "metadata": {},
   "outputs": [],
   "source": [
    "import tropycal.realtime as realtime\n",
    "import geojson\n",
    "import os\n",
    "import math\n",
    "import numpy as np\n",
    "import timeit"
   ]
  },
  {
   "cell_type": "code",
   "execution_count": 3,
   "id": "daa1812a-91aa-4257-a7d3-a7b142fdd374",
   "metadata": {},
   "outputs": [],
   "source": [
    "# Initialize the real-time object\n",
    "# realtime_obj = realtime.Realtime()"
   ]
  },
  {
   "cell_type": "code",
   "execution_count": 4,
   "id": "d158c5a5-690a-44d0-95d0-659110fda409",
   "metadata": {},
   "outputs": [],
   "source": [
    "# List of basins to check for active hurricanes (North Atlantic, East Pacific, and Central Pacific)\n",
    "basins = ['north_atlantic', 'east_pacific', 'central_pacific']"
   ]
  },
  {
   "cell_type": "code",
   "execution_count": 5,
   "id": "585cdfe6-1606-4376-a25c-941e67635c54",
   "metadata": {},
   "outputs": [],
   "source": [
    "# Function to check if a value is valid (i.e., not NaN or infinity)\n",
    "def is_valid_value(value):\n",
    "    return value is not None and not math.isnan(value) and not math.isinf(value)"
   ]
  },
  {
   "cell_type": "code",
   "execution_count": 6,
   "id": "1939fe1f-c590-4685-b597-1ba06ae7d688",
   "metadata": {},
   "outputs": [],
   "source": [
    "# Function to create an envelope around coordinates by adding a buffer\n",
    "def create_envelope(coords, buffer=0.3):\n",
    "    buffered_coords = []\n",
    "    for lon, lat in coords:\n",
    "        buffered_coords.append((lon + buffer, lat + buffer))\n",
    "        buffered_coords.append((lon - buffer, lat + buffer))\n",
    "        buffered_coords.append((lon + buffer, lat - buffer))\n",
    "        buffered_coords.append((lon - buffer, lat - buffer))\n",
    "    \n",
    "    # Get unique coordinates and sort them\n",
    "    unique_coords = list(set(buffered_coords))\n",
    "    unique_coords.sort(key=lambda x: (x[0], x[1]))\n",
    "    \n",
    "    # Create the envelope polygon\n",
    "    multipoint = MultiPoint(unique_coords)\n",
    "    convex_hull = multipoint.convex_hull\n",
    "    exterior_coords = list(convex_hull.exterior.coords)\n",
    "    \n",
    "    return exterior_coords"
   ]
  },
  {
   "cell_type": "code",
   "execution_count": 7,
   "id": "5b5dcbb5-b8f4-41e3-ad5c-3af9847a95d7",
   "metadata": {},
   "outputs": [],
   "source": [
    "# Function to fetch active storm data (ignoring invests) and convert it to GeoJSON format\n",
    "def get_active_storms_geojson():\n",
    "    features = []\n",
    "    \n",
    "    # Loop through each basin\n",
    "    for basin in basins:\n",
    "        try:\n",
    "            # List all active storms in the basin\n",
    "            active_storms = realtime_obj.list_active_storms(basin=basin)\n",
    "            \n",
    "            for storm_name in active_storms:\n",
    "                try:\n",
    "                    # Retrieve full storm data\n",
    "                    storm = realtime_obj.get_storm(storm_name)\n",
    "                    \n",
    "                    # Ignore Invest storms by checking the storm's classification\n",
    "                    if storm.invest:\n",
    "                        print(f\"Ignoring Invest: {storm_name}\")\n",
    "                        continue  # Skip Invest storms\n",
    "                    \n",
    "                    # Get the latest forecast track (real-time forecast data)\n",
    "                    forecast_data = storm.get_forecast_realtime()\n",
    "                    \n",
    "                    # Create GeoJSON polygons for the forecast area\n",
    "                    coordinates = []\n",
    "                    for i in range(len(forecast_data['lat'])):\n",
    "                        lat = forecast_data['lat'][i]\n",
    "                        lon = forecast_data['lon'][i]\n",
    "                        \n",
    "                        if is_valid_value(lat) and is_valid_value(lon):\n",
    "                            coordinates.append((lon, lat))\n",
    "                    \n",
    "                    # Create an envelope around the coordinates\n",
    "                    if len(coordinates) > 2:\n",
    "                        envelope_coords = create_envelope(coordinates)\n",
    "                        if envelope_coords:\n",
    "                            # Create GeoJSON Polygon\n",
    "                            polygon = geojson.Polygon([envelope_coords])\n",
    "                            \n",
    "                            # Create GeoJSON Feature with valid properties\n",
    "                            feature = geojson.Feature(\n",
    "                                geometry=polygon,\n",
    "                                properties={\n",
    "                                    'storm_name': storm.name,\n",
    "                                    'storm_id': storm.id,\n",
    "                                    'basin': basin,\n",
    "                                    'storm_type': forecast_data['type'][0] if len(forecast_data['type']) > 0 else None\n",
    "                                }\n",
    "                            )\n",
    "                            features.append(feature)\n",
    "                \n",
    "                except Exception as e:\n",
    "                    print(f\"Error retrieving data for storm {storm_name}: {e}\")\n",
    "                    \n",
    "        except Exception as e:\n",
    "            print(f\"Error retrieving storms for basin {basin}: {e}\")\n",
    "    \n",
    "    # Return the GeoJSON FeatureCollection\n",
    "    return geojson.FeatureCollection(features)"
   ]
  },
  {
   "cell_type": "code",
   "execution_count": 8,
   "id": "25e63d11-7b9a-4920-8dbd-ad7e4348c500",
   "metadata": {},
   "outputs": [],
   "source": [
    "# Define the function to test time required to execute\n",
    "def time_required_to_execute():\n",
    "    # Initialize the real-time object\n",
    "    realtime_obj = realtime.Realtime()\n",
    "\n",
    "    # # Fetch the active storms and convert to GeoJSON\n",
    "    geojson_data = get_active_storms_geojson()"
   ]
  },
  {
   "cell_type": "code",
   "execution_count": 9,
   "id": "e72692ea-ab41-4307-99ef-4027cd0792ae",
   "metadata": {},
   "outputs": [],
   "source": [
    "# Specify the path where you want to save the GeoJSON file\n",
    "save_path = \"C:/Downloads/active_storms.geojson\"  # Replace with your path"
   ]
  },
  {
   "cell_type": "code",
   "execution_count": 10,
   "id": "f3771c34-fab4-4b27-b4bc-20be416f7730",
   "metadata": {},
   "outputs": [],
   "source": [
    "# Ensure the directory exists\n",
    "os.makedirs(os.path.dirname(save_path), exist_ok=True)"
   ]
  },
  {
   "cell_type": "code",
   "execution_count": 11,
   "id": "13313ff0-a0ac-4536-a27a-c3f2c554ea44",
   "metadata": {},
   "outputs": [],
   "source": [
    "# # Fetch the active storms and convert to GeoJSON\n",
    "# geojson_data = get_active_storms_geojson()"
   ]
  },
  {
   "cell_type": "code",
   "execution_count": 12,
   "id": "563a2d56-9fda-4038-a1ab-a53a9bc154aa",
   "metadata": {},
   "outputs": [
    {
     "name": "stdout",
     "output_type": "stream",
     "text": [
      "--> Starting to read in current storm data\n",
      "--> Completed reading in current storm data (22.22 seconds)\n",
      "Error retrieving storms for basin north_atlantic: name 'realtime_obj' is not defined\n",
      "Error retrieving storms for basin east_pacific: name 'realtime_obj' is not defined\n",
      "Error retrieving storms for basin central_pacific: name 'realtime_obj' is not defined\n",
      "Time taken to execute the function: 24.74 seconds\n"
     ]
    }
   ],
   "source": [
    "# Measure the time required to execute\n",
    "elapsed_time = timeit.timeit(time_required_to_execute, number=1)\n",
    "print(f\"Time taken to execute the function: {elapsed_time:.2f} seconds\")"
   ]
  },
  {
   "cell_type": "code",
   "execution_count": 13,
   "id": "fda70dc8-8768-4296-bdf1-1cc8ac2ba17a",
   "metadata": {},
   "outputs": [
    {
     "ename": "NameError",
     "evalue": "name 'geojson_data' is not defined",
     "output_type": "error",
     "traceback": [
      "\u001b[1;31m---------------------------------------------------------------------------\u001b[0m",
      "\u001b[1;31mNameError\u001b[0m                                 Traceback (most recent call last)",
      "Cell \u001b[1;32mIn[13], line 3\u001b[0m\n\u001b[0;32m      1\u001b[0m \u001b[38;5;66;03m# Save the GeoJSON data to the specified path\u001b[39;00m\n\u001b[0;32m      2\u001b[0m \u001b[38;5;28;01mwith\u001b[39;00m \u001b[38;5;28mopen\u001b[39m(save_path, \u001b[38;5;124m'\u001b[39m\u001b[38;5;124mw\u001b[39m\u001b[38;5;124m'\u001b[39m) \u001b[38;5;28;01mas\u001b[39;00m f:\n\u001b[1;32m----> 3\u001b[0m     geojson\u001b[38;5;241m.\u001b[39mdump(geojson_data, f, indent\u001b[38;5;241m=\u001b[39m\u001b[38;5;241m2\u001b[39m)\n\u001b[0;32m      5\u001b[0m \u001b[38;5;28mprint\u001b[39m(\u001b[38;5;124mf\u001b[39m\u001b[38;5;124m\"\u001b[39m\u001b[38;5;124mGeoJSON file with active storm data has been created at \u001b[39m\u001b[38;5;132;01m{\u001b[39;00msave_path\u001b[38;5;132;01m}\u001b[39;00m\u001b[38;5;124m.\u001b[39m\u001b[38;5;124m\"\u001b[39m)\n",
      "\u001b[1;31mNameError\u001b[0m: name 'geojson_data' is not defined"
     ]
    }
   ],
   "source": [
    "# Save the GeoJSON data to the specified path\n",
    "with open(save_path, 'w') as f:\n",
    "    geojson.dump(geojson_data, f, indent=2)\n",
    "\n",
    "print(f\"GeoJSON file with active storm data has been created at {save_path}.\")"
   ]
  }
 ],
 "metadata": {
  "kernelspec": {
   "display_name": "Python 3 (ipykernel)",
   "language": "python",
   "name": "python3"
  },
  "language_info": {
   "codemirror_mode": {
    "name": "ipython",
    "version": 3
   },
   "file_extension": ".py",
   "mimetype": "text/x-python",
   "name": "python",
   "nbconvert_exporter": "python",
   "pygments_lexer": "ipython3",
   "version": "3.12.4"
  }
 },
 "nbformat": 4,
 "nbformat_minor": 5
}
